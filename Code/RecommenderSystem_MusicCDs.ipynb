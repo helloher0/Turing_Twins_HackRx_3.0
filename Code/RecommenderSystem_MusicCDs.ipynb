{
 "cells": [
  {
   "cell_type": "markdown",
   "metadata": {},
   "source": [
    "## Import necessary modules"
   ]
  },
  {
   "cell_type": "code",
   "execution_count": 6,
   "metadata": {},
   "outputs": [],
   "source": [
    "import numpy as np\n",
    "import pandas as pd\n",
    "import matplotlib.pyplot as plt\n",
    "import seaborn as sns\n",
    "import warnings\n",
    "warnings.filterwarnings('ignore')\n",
    "%matplotlib inline\n",
    "import nltk\n",
    "import string\n",
    "import re\n",
    "from nltk.corpus import stopwords\n",
    "import networkx as nx\n",
    "from stemming.porter2 import stem\n",
    "import csv\n",
    "from sklearn.preprocessing import MinMaxScaler\n",
    "from sklearn.preprocessing import Normalizer\n",
    "from operator import itemgetter"
   ]
  },
  {
   "cell_type": "markdown",
   "metadata": {},
   "source": [
    "## Extracting features using Music.txt\n",
    "File for the same is also uploaded"
   ]
  },
  {
   "cell_type": "code",
   "execution_count": 7,
   "metadata": {},
   "outputs": [],
   "source": [
    "Music_file = open('./Music.txt', 'r', encoding='utf-8', errors='ignore')\n",
    "Music = {}\n",
    "Music_file.readline()\n",
    "for line in Music_file:\n",
    "    item = line.split('\\t')\n",
    "    MetaData = {}\n",
    "    MetaData['Id'] = item[0].strip() \n",
    "    ASIN = item[1].strip()\n",
    "    MetaData['Title'] = item[2].strip()\n",
    "    MetaData['Categories'] = item[3].strip()\n",
    "    MetaData['Group'] = item[4].strip()\n",
    "    MetaData['SalesRank'] = int(item[5].strip())\n",
    "    MetaData['TotalReviews'] = int(item[6].strip())\n",
    "    MetaData['AvgRating'] = float(item[7].strip())\n",
    "    MetaData['DegreeCentrality'] = int(item[8].strip())\n",
    "    MetaData['ClusteringCoeff'] = float(item[9].strip())\n",
    "    Music[ASIN] = MetaData\n",
    "Music_file.close()"
   ]
  },
  {
   "cell_type": "markdown",
   "metadata": {},
   "source": [
    "## Using Music CDs edge list"
   ]
  },
  {
   "cell_type": "code",
   "execution_count": 8,
   "metadata": {},
   "outputs": [],
   "source": [
    "Music_edgelist=open(\"Music.edgelist\", 'rb')\n",
    "Music_Graph=nx.read_weighted_edgelist(Music_edgelist)\n",
    "Music_edgelist.close()"
   ]
  },
  {
   "cell_type": "markdown",
   "metadata": {},
   "source": [
    "## Predicting co-purchased Music CDs\n",
    "Using constraints like composite_measure and degrees, we are predicting top co-purchased Music CD"
   ]
  },
  {
   "cell_type": "code",
   "execution_count": 9,
   "metadata": {},
   "outputs": [
    {
     "name": "stdout",
     "output_type": "stream",
     "text": [
      "B00000AU3R\n",
      "The top recommendations are:\n",
      "----------------------\n",
      "recommendation: B0000261KX\n",
      "Title : Solo Concert\n",
      "SalesRank : 72076\n",
      "Group : Music\n",
      "TotalReviews : 9\n",
      "AvgRating : 5.0\n",
      "DegreeCentrality : 9\n",
      "ClusteringCoeff : 0.47\n",
      "----------------------\n",
      "recommendation: B000059OB9\n",
      "Title : Anthem\n",
      "SalesRank : 56048\n",
      "Group : Music\n",
      "TotalReviews : 9\n",
      "AvgRating : 4.5\n",
      "DegreeCentrality : 3\n",
      "ClusteringCoeff : 0.83\n",
      "----------------------\n",
      "recommendation: B00006AM8D\n",
      "Title : Songs Without End\n",
      "SalesRank : 174906\n",
      "Group : Music\n",
      "TotalReviews : 1\n",
      "AvgRating : 5.0\n",
      "DegreeCentrality : 2\n",
      "ClusteringCoeff : 0.0\n"
     ]
    }
   ],
   "source": [
    "Item_ASIN = input()\n",
    "\n",
    "degree = nx.ego_graph(Music_Graph,Item_ASIN,radius=1)\n",
    "threshold = 0.1\n",
    "Out_Graph = nx.Graph()\n",
    "\n",
    "Weights={}\n",
    "\n",
    "for source, destination, edge in degree.edges(data=True):\n",
    "    if edge['weight'] >= threshold:\n",
    "        Out_Graph.add_edge(source,destination,edge=edge['weight'])\n",
    "        if (source==Item_ASIN):\n",
    "            Weights[destination]=edge['weight']\n",
    "            \n",
    "Neighbors = [ASIN for ASIN in Out_Graph.neighbors(Item_ASIN)]\n",
    "\n",
    "SalesRank=[]\n",
    "TotalReviews=[]\n",
    "AvgRating=[]\n",
    "DegreeCentrality=[]\n",
    "ClusteringCoeff=[]\n",
    "Group=[]\n",
    "\n",
    "for ASIN in Neighbors:\n",
    "    SalesRank.append(Music[ASIN]['SalesRank'])\n",
    "    Group.append(Music[ASIN]['Group'])\n",
    "    TotalReviews.append(Music[ASIN]['TotalReviews'])\n",
    "    AvgRating.append(Music[ASIN]['AvgRating'])\n",
    "    DegreeCentrality.append(Music[ASIN]['DegreeCentrality'])\n",
    "    ClusteringCoeff.append(Music[ASIN]['ClusteringCoeff'])\n",
    "    \n",
    "columns=['SalesRank','TotalReviews','AvgRating','DegreeCentrality','ClusteringCoeff']\n",
    "\n",
    "df=pd.DataFrame(data={'Sales':SalesRank,'Reviews':TotalReviews,'Avg':AvgRating,'DC':DegreeCentrality,'CC':ClusteringCoeff},index=Neighbors)\n",
    "df['DcCC']=pow(df['DC'],df['CC'])\n",
    "\n",
    "def logtrans(n):\n",
    "    if n ==0:\n",
    "        return 0\n",
    "    else:\n",
    "        logn=np.log(n)\n",
    "        return round(logn,2)\n",
    "\n",
    "df['log_Review']=df['Reviews'].apply(logtrans)\n",
    "df['log_Avg']=df['Avg'].apply(logtrans)\n",
    "df['log_Sales']=df['Sales'].apply(logtrans)\n",
    "\n",
    "\n",
    "df['Rating&Review_Score']=df['log_Review']*df['log_Avg']\n",
    "df['DC&ClusterCoef_Score']=pow(df['DC'],df['CC'])\n",
    "\n",
    "minmax=MinMaxScaler()\n",
    "dftrans=pd.DataFrame(minmax.fit_transform(df[['DC&ClusterCoef_Score','log_Sales','Rating&Review_Score']]), columns=['DcCC_Score','minmax_Sales','R&R_Score'], index=df.index)\n",
    "dftrans=pd.concat([df,dftrans],axis=1)\n",
    "\n",
    "dftrans['Sales_Score']=round(1-dftrans['minmax_Sales'],2)\n",
    "dftrans=dftrans.drop(['DC&ClusterCoef_Score','minmax_Sales','Rating&Review_Score'],axis=1)\n",
    "dftrans['composite_score']=dftrans['DcCC_Score']+dftrans['R&R_Score']+(dftrans['Sales_Score']*1/5)\n",
    "\n",
    "compositemeasure={}\n",
    "for asin in dftrans.index:\n",
    "    compositemeasure[asin]=round(dftrans['composite_score'].loc[asin],2)\n",
    "\n",
    "compositemeasure_sorted=dict(sorted(compositemeasure.items(), key=itemgetter(1),reverse=True)[:5])\n",
    "\n",
    "print(\"The top recommendations are:\")\n",
    "items=['Title','SalesRank','Group','TotalReviews','AvgRating','DegreeCentrality','ClusteringCoeff']\n",
    "for asin in compositemeasure_sorted.keys():\n",
    "    print(\"----------------------\")\n",
    "    print(\"recommendation:\",asin)\n",
    "    for i in items:\n",
    "        print(i,\":\",Music[asin][i])"
   ]
  }
 ],
 "metadata": {
  "kernelspec": {
   "display_name": "Python 3",
   "language": "python",
   "name": "python3"
  },
  "language_info": {
   "codemirror_mode": {
    "name": "ipython",
    "version": 3
   },
   "file_extension": ".py",
   "mimetype": "text/x-python",
   "name": "python",
   "nbconvert_exporter": "python",
   "pygments_lexer": "ipython3",
   "version": "3.7.9"
  }
 },
 "nbformat": 4,
 "nbformat_minor": 4
}
