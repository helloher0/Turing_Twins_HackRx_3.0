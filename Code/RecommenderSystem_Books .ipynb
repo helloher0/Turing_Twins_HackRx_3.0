{
 "cells": [
  {
   "cell_type": "markdown",
   "metadata": {},
   "source": [
    "## Import necessary modules"
   ]
  },
  {
   "cell_type": "code",
   "execution_count": null,
   "metadata": {},
   "outputs": [],
   "source": [
    "import numpy as np\n",
    "import pandas as pd\n",
    "import matplotlib.pyplot as plt\n",
    "import seaborn as sns\n",
    "import warnings\n",
    "warnings.filterwarnings('ignore')\n",
    "%matplotlib inline\n",
    "import nltk\n",
    "import string\n",
    "import re\n",
    "from nltk.corpus import stopwords\n",
    "import networkx as nx\n",
    "from stemming.porter2 import stem\n",
    "import csv\n",
    "from sklearn.preprocessing import MinMaxScaler\n",
    "from sklearn.preprocessing import Normalizer\n",
    "from operator import itemgetter"
   ]
  },
  {
   "cell_type": "markdown",
   "metadata": {},
   "source": [
    "## Using processed Books file"
   ]
  },
  {
   "cell_type": "code",
   "execution_count": 2,
   "metadata": {},
   "outputs": [],
   "source": [
    "Books_file = open('./Books.txt', 'r', encoding='utf-8', errors='ignore')\n",
    "Books = {}\n",
    "Books_file.readline()\n",
    "for line in Books_file:\n",
    "    item = line.split('\\t')\n",
    "    MetaData = {}\n",
    "    MetaData['Id'] = item[0].strip() \n",
    "    ASIN = item[1].strip()\n",
    "    MetaData['Title'] = item[2].strip()\n",
    "    MetaData['Categories'] = item[3].strip()\n",
    "    MetaData['Group'] = item[4].strip()\n",
    "    MetaData['SalesRank'] = int(item[5].strip())\n",
    "    MetaData['TotalReviews'] = int(item[6].strip())\n",
    "    MetaData['AvgRating'] = float(item[7].strip())\n",
    "    MetaData['DegreeCentrality'] = int(item[8].strip())\n",
    "    MetaData['ClusteringCoeff'] = float(item[9].strip())\n",
    "    Books[ASIN] = MetaData\n",
    "Books_file.close()"
   ]
  },
  {
   "cell_type": "markdown",
   "metadata": {},
   "source": [
    "## Importing Books Edge List\n",
    "File for the same is uploaded."
   ]
  },
  {
   "cell_type": "code",
   "execution_count": 3,
   "metadata": {},
   "outputs": [],
   "source": [
    "Books_edgelist=open(\"Books.edgelist\", 'rb')\n",
    "Books_Graph=nx.read_weighted_edgelist(Books_edgelist)\n",
    "Books_edgelist.close()"
   ]
  },
  {
   "cell_type": "markdown",
   "metadata": {},
   "source": [
    "## Taking input of the purchased item's ASIN"
   ]
  },
  {
   "cell_type": "code",
   "execution_count": 6,
   "metadata": {},
   "outputs": [
    {
     "name": "stdout",
     "output_type": "stream",
     "text": [
      "0842328327\n"
     ]
    }
   ],
   "source": [
    "Item_ASIN = input()"
   ]
  },
  {
   "cell_type": "markdown",
   "metadata": {},
   "source": [
    "## Printing it's details"
   ]
  },
  {
   "cell_type": "code",
   "execution_count": 7,
   "metadata": {},
   "outputs": [
    {
     "name": "stdout",
     "output_type": "stream",
     "text": [
      "ASIN =  0842328327\n",
      "Title =  Life Application Bible Commentary: 1 and 2 Timothy and Titus\n",
      "SalesRank =  631289\n",
      "TotalReviews =  1\n",
      "AvgRating =  4.0\n",
      "DegreeCentrality =  6\n",
      "ClusteringCoeff =  0.79\n"
     ]
    }
   ],
   "source": [
    "print (\"ASIN = \", Item_ASIN) \n",
    "print (\"Title = \", Books[Item_ASIN]['Title'])\n",
    "print (\"SalesRank = \", Books[Item_ASIN]['SalesRank'])\n",
    "print (\"TotalReviews = \", Books[Item_ASIN]['TotalReviews'])\n",
    "print (\"AvgRating = \", Books[Item_ASIN]['AvgRating'])\n",
    "print (\"DegreeCentrality = \", Books[Item_ASIN]['DegreeCentrality'])\n",
    "print (\"ClusteringCoeff = \", Books[Item_ASIN]['ClusteringCoeff'])"
   ]
  },
  {
   "cell_type": "markdown",
   "metadata": {},
   "source": [
    "## Computing degree of the node"
   ]
  },
  {
   "cell_type": "code",
   "execution_count": 8,
   "metadata": {},
   "outputs": [],
   "source": [
    "degree = nx.ego_graph(Books_Graph,Item_ASIN,radius=1)"
   ]
  },
  {
   "cell_type": "markdown",
   "metadata": {},
   "source": [
    "## Setting similarity threshold"
   ]
  },
  {
   "cell_type": "code",
   "execution_count": 9,
   "metadata": {},
   "outputs": [],
   "source": [
    "threshold = 0.5\n",
    "Out_Graph = nx.Graph()"
   ]
  },
  {
   "cell_type": "markdown",
   "metadata": {},
   "source": [
    "## Finding weights and neighbours"
   ]
  },
  {
   "cell_type": "code",
   "execution_count": 10,
   "metadata": {},
   "outputs": [],
   "source": [
    "Weights={}\n",
    "\n",
    "for source, destination, edge in degree.edges(data=True):\n",
    "    if edge['weight'] >= threshold:\n",
    "        Out_Graph.add_edge(source,destination,edge=edge['weight'])\n",
    "        if (source==Item_ASIN):\n",
    "            Weights[destination]=edge['weight']"
   ]
  },
  {
   "cell_type": "code",
   "execution_count": 11,
   "metadata": {},
   "outputs": [],
   "source": [
    "Neighbors = [ASIN for ASIN in Out_Graph.neighbors(Item_ASIN)]"
   ]
  },
  {
   "cell_type": "code",
   "execution_count": 12,
   "metadata": {},
   "outputs": [],
   "source": [
    "SalesRank=[]\n",
    "TotalReviews=[]\n",
    "AvgRating=[]\n",
    "DegreeCentrality=[]\n",
    "ClusteringCoeff=[]\n",
    "\n",
    "for ASIN in Neighbors:\n",
    "    SalesRank.append(Books[ASIN]['SalesRank'])\n",
    "    TotalReviews.append(Books[ASIN]['TotalReviews'])\n",
    "    AvgRating.append(Books[ASIN]['AvgRating'])\n",
    "    DegreeCentrality.append(Books[ASIN]['DegreeCentrality'])\n",
    "    ClusteringCoeff.append(Books[ASIN]['ClusteringCoeff'])"
   ]
  },
  {
   "cell_type": "markdown",
   "metadata": {},
   "source": [
    "## Creating dataset of all it's neighbours"
   ]
  },
  {
   "cell_type": "code",
   "execution_count": 13,
   "metadata": {},
   "outputs": [],
   "source": [
    "columns=['SalesRank','TotalReviews','AvgRating','DegreeCentrality','ClusteringCoeff']\n",
    "pd.set_option('display.max_columns',10)"
   ]
  },
  {
   "cell_type": "code",
   "execution_count": 14,
   "metadata": {},
   "outputs": [],
   "source": [
    "df=pd.DataFrame(data={'Sales':SalesRank,'Reviews':TotalReviews,'Avg':AvgRating,'DC':DegreeCentrality,'CC':ClusteringCoeff},index=Neighbors)\n",
    "df['DcCC']=pow(df['DC'],df['CC'])"
   ]
  },
  {
   "cell_type": "code",
   "execution_count": 15,
   "metadata": {},
   "outputs": [
    {
     "data": {
      "text/html": [
       "<div>\n",
       "<style scoped>\n",
       "    .dataframe tbody tr th:only-of-type {\n",
       "        vertical-align: middle;\n",
       "    }\n",
       "\n",
       "    .dataframe tbody tr th {\n",
       "        vertical-align: top;\n",
       "    }\n",
       "\n",
       "    .dataframe thead th {\n",
       "        text-align: right;\n",
       "    }\n",
       "</style>\n",
       "<table border=\"1\" class=\"dataframe\">\n",
       "  <thead>\n",
       "    <tr style=\"text-align: right;\">\n",
       "      <th></th>\n",
       "      <th>Sales</th>\n",
       "      <th>Reviews</th>\n",
       "      <th>Avg</th>\n",
       "      <th>DC</th>\n",
       "      <th>CC</th>\n",
       "      <th>DcCC</th>\n",
       "    </tr>\n",
       "  </thead>\n",
       "  <tbody>\n",
       "    <tr>\n",
       "      <th>0842328130</th>\n",
       "      <td>180843</td>\n",
       "      <td>0</td>\n",
       "      <td>0.0</td>\n",
       "      <td>8</td>\n",
       "      <td>0.81</td>\n",
       "      <td>5.388934</td>\n",
       "    </tr>\n",
       "    <tr>\n",
       "      <th>0842330313</th>\n",
       "      <td>447658</td>\n",
       "      <td>0</td>\n",
       "      <td>0.0</td>\n",
       "      <td>11</td>\n",
       "      <td>0.72</td>\n",
       "      <td>5.620860</td>\n",
       "    </tr>\n",
       "    <tr>\n",
       "      <th>0842328610</th>\n",
       "      <td>203202</td>\n",
       "      <td>1</td>\n",
       "      <td>5.0</td>\n",
       "      <td>14</td>\n",
       "      <td>0.68</td>\n",
       "      <td>6.016821</td>\n",
       "    </tr>\n",
       "    <tr>\n",
       "      <th>0842328572</th>\n",
       "      <td>339372</td>\n",
       "      <td>0</td>\n",
       "      <td>0.0</td>\n",
       "      <td>12</td>\n",
       "      <td>0.75</td>\n",
       "      <td>6.447420</td>\n",
       "    </tr>\n",
       "    <tr>\n",
       "      <th>0842328629</th>\n",
       "      <td>737882</td>\n",
       "      <td>0</td>\n",
       "      <td>0.0</td>\n",
       "      <td>3</td>\n",
       "      <td>0.83</td>\n",
       "      <td>2.488918</td>\n",
       "    </tr>\n",
       "    <tr>\n",
       "      <th>0842329749</th>\n",
       "      <td>621548</td>\n",
       "      <td>1</td>\n",
       "      <td>5.0</td>\n",
       "      <td>5</td>\n",
       "      <td>0.69</td>\n",
       "      <td>3.035913</td>\n",
       "    </tr>\n",
       "  </tbody>\n",
       "</table>\n",
       "</div>"
      ],
      "text/plain": [
       "             Sales  Reviews  Avg  DC    CC      DcCC\n",
       "0842328130  180843        0  0.0   8  0.81  5.388934\n",
       "0842330313  447658        0  0.0  11  0.72  5.620860\n",
       "0842328610  203202        1  5.0  14  0.68  6.016821\n",
       "0842328572  339372        0  0.0  12  0.75  6.447420\n",
       "0842328629  737882        0  0.0   3  0.83  2.488918\n",
       "0842329749  621548        1  5.0   5  0.69  3.035913"
      ]
     },
     "execution_count": 15,
     "metadata": {},
     "output_type": "execute_result"
    }
   ],
   "source": [
    "df"
   ]
  },
  {
   "cell_type": "code",
   "execution_count": 16,
   "metadata": {},
   "outputs": [],
   "source": [
    "def logtrans(n):\n",
    "    if n ==0:\n",
    "        return 0\n",
    "    else:\n",
    "        logn=np.log(n)\n",
    "        return round(logn,2) "
   ]
  },
  {
   "cell_type": "markdown",
   "metadata": {},
   "source": [
    "## Extracting features of neighbours"
   ]
  },
  {
   "cell_type": "code",
   "execution_count": 17,
   "metadata": {},
   "outputs": [],
   "source": [
    "df['log_Review']=df['Reviews'].apply(logtrans)\n",
    "df['log_Avg']=df['Avg'].apply(logtrans)\n",
    "df['log_Sales']=df['Sales'].apply(logtrans)\n",
    "\n",
    "\n",
    "df['Rating&Review_Score']=df['log_Review']*df['log_Avg']\n",
    "df['DC&ClusterCoef_Score']=pow(df['DC'],df['CC'])"
   ]
  },
  {
   "cell_type": "code",
   "execution_count": 18,
   "metadata": {},
   "outputs": [],
   "source": [
    "minmax=MinMaxScaler()\n",
    "dftrans=pd.DataFrame(minmax.fit_transform(df[['DC&ClusterCoef_Score','log_Sales','Rating&Review_Score']]), columns=['DcCC_Score','minmax_Sales','R&R_Score'], index=df.index)\n",
    "dftrans=pd.concat([df,dftrans],axis=1)\n",
    "\n",
    "dftrans['Sales_Score']=round(1-dftrans['minmax_Sales'],2)\n",
    "dftrans=dftrans.drop(['DC&ClusterCoef_Score','minmax_Sales','Rating&Review_Score'],axis=1)\n",
    "dftrans['composite_score']=dftrans['DcCC_Score']+dftrans['R&R_Score']+(dftrans['Sales_Score']*1/5)"
   ]
  },
  {
   "cell_type": "code",
   "execution_count": 19,
   "metadata": {},
   "outputs": [
    {
     "data": {
      "text/html": [
       "<div>\n",
       "<style scoped>\n",
       "    .dataframe tbody tr th:only-of-type {\n",
       "        vertical-align: middle;\n",
       "    }\n",
       "\n",
       "    .dataframe tbody tr th {\n",
       "        vertical-align: top;\n",
       "    }\n",
       "\n",
       "    .dataframe thead th {\n",
       "        text-align: right;\n",
       "    }\n",
       "</style>\n",
       "<table border=\"1\" class=\"dataframe\">\n",
       "  <thead>\n",
       "    <tr style=\"text-align: right;\">\n",
       "      <th></th>\n",
       "      <th>Sales</th>\n",
       "      <th>Reviews</th>\n",
       "      <th>Avg</th>\n",
       "      <th>DC</th>\n",
       "      <th>CC</th>\n",
       "      <th>...</th>\n",
       "      <th>log_Sales</th>\n",
       "      <th>DcCC_Score</th>\n",
       "      <th>R&amp;R_Score</th>\n",
       "      <th>Sales_Score</th>\n",
       "      <th>composite_score</th>\n",
       "    </tr>\n",
       "  </thead>\n",
       "  <tbody>\n",
       "    <tr>\n",
       "      <th>0842328130</th>\n",
       "      <td>180843</td>\n",
       "      <td>0</td>\n",
       "      <td>0.0</td>\n",
       "      <td>8</td>\n",
       "      <td>0.81</td>\n",
       "      <td>...</td>\n",
       "      <td>12.11</td>\n",
       "      <td>0.732605</td>\n",
       "      <td>0.0</td>\n",
       "      <td>1.00</td>\n",
       "      <td>0.932605</td>\n",
       "    </tr>\n",
       "    <tr>\n",
       "      <th>0842330313</th>\n",
       "      <td>447658</td>\n",
       "      <td>0</td>\n",
       "      <td>0.0</td>\n",
       "      <td>11</td>\n",
       "      <td>0.72</td>\n",
       "      <td>...</td>\n",
       "      <td>13.01</td>\n",
       "      <td>0.791194</td>\n",
       "      <td>0.0</td>\n",
       "      <td>0.36</td>\n",
       "      <td>0.863194</td>\n",
       "    </tr>\n",
       "    <tr>\n",
       "      <th>0842328610</th>\n",
       "      <td>203202</td>\n",
       "      <td>1</td>\n",
       "      <td>5.0</td>\n",
       "      <td>14</td>\n",
       "      <td>0.68</td>\n",
       "      <td>...</td>\n",
       "      <td>12.22</td>\n",
       "      <td>0.891222</td>\n",
       "      <td>0.0</td>\n",
       "      <td>0.92</td>\n",
       "      <td>1.075222</td>\n",
       "    </tr>\n",
       "    <tr>\n",
       "      <th>0842328572</th>\n",
       "      <td>339372</td>\n",
       "      <td>0</td>\n",
       "      <td>0.0</td>\n",
       "      <td>12</td>\n",
       "      <td>0.75</td>\n",
       "      <td>...</td>\n",
       "      <td>12.73</td>\n",
       "      <td>1.000000</td>\n",
       "      <td>0.0</td>\n",
       "      <td>0.56</td>\n",
       "      <td>1.112000</td>\n",
       "    </tr>\n",
       "    <tr>\n",
       "      <th>0842328629</th>\n",
       "      <td>737882</td>\n",
       "      <td>0</td>\n",
       "      <td>0.0</td>\n",
       "      <td>3</td>\n",
       "      <td>0.83</td>\n",
       "      <td>...</td>\n",
       "      <td>13.51</td>\n",
       "      <td>0.000000</td>\n",
       "      <td>0.0</td>\n",
       "      <td>0.00</td>\n",
       "      <td>0.000000</td>\n",
       "    </tr>\n",
       "    <tr>\n",
       "      <th>0842329749</th>\n",
       "      <td>621548</td>\n",
       "      <td>1</td>\n",
       "      <td>5.0</td>\n",
       "      <td>5</td>\n",
       "      <td>0.69</td>\n",
       "      <td>...</td>\n",
       "      <td>13.34</td>\n",
       "      <td>0.138182</td>\n",
       "      <td>0.0</td>\n",
       "      <td>0.12</td>\n",
       "      <td>0.162182</td>\n",
       "    </tr>\n",
       "  </tbody>\n",
       "</table>\n",
       "<p>6 rows × 13 columns</p>\n",
       "</div>"
      ],
      "text/plain": [
       "             Sales  Reviews  Avg  DC    CC  ...  log_Sales  DcCC_Score  \\\n",
       "0842328130  180843        0  0.0   8  0.81  ...      12.11    0.732605   \n",
       "0842330313  447658        0  0.0  11  0.72  ...      13.01    0.791194   \n",
       "0842328610  203202        1  5.0  14  0.68  ...      12.22    0.891222   \n",
       "0842328572  339372        0  0.0  12  0.75  ...      12.73    1.000000   \n",
       "0842328629  737882        0  0.0   3  0.83  ...      13.51    0.000000   \n",
       "0842329749  621548        1  5.0   5  0.69  ...      13.34    0.138182   \n",
       "\n",
       "            R&R_Score  Sales_Score  composite_score  \n",
       "0842328130        0.0         1.00         0.932605  \n",
       "0842330313        0.0         0.36         0.863194  \n",
       "0842328610        0.0         0.92         1.075222  \n",
       "0842328572        0.0         0.56         1.112000  \n",
       "0842328629        0.0         0.00         0.000000  \n",
       "0842329749        0.0         0.12         0.162182  \n",
       "\n",
       "[6 rows x 13 columns]"
      ]
     },
     "execution_count": 19,
     "metadata": {},
     "output_type": "execute_result"
    }
   ],
   "source": [
    "dftrans"
   ]
  },
  {
   "cell_type": "code",
   "execution_count": 20,
   "metadata": {},
   "outputs": [],
   "source": [
    "compositemeasure={}\n",
    "for asin in dftrans.index:\n",
    "    compositemeasure[asin]=round(dftrans['composite_score'].loc[asin],2)\n",
    "\n",
    "compositemeasure_sorted=dict(sorted(compositemeasure.items(), key=itemgetter(1),reverse=True)[:5])"
   ]
  },
  {
   "cell_type": "markdown",
   "metadata": {},
   "source": [
    "## Top Recommendations"
   ]
  },
  {
   "cell_type": "code",
   "execution_count": 23,
   "metadata": {},
   "outputs": [
    {
     "name": "stdout",
     "output_type": "stream",
     "text": [
      "The top recommendations are:\n",
      "----------------------\n",
      "recommendation: 0842328572\n",
      "Title : 1, 2, & 3 John (Life Application Bible Commentary)\n",
      "SalesRank : 339372\n",
      "TotalReviews : 0\n",
      "AvgRating : 0.0\n",
      "DegreeCentrality : 12\n",
      "ClusteringCoeff : 0.75\n",
      "----------------------\n",
      "recommendation: 0842328610\n",
      "Title : Acts (Life Application Bible Commentary)\n",
      "SalesRank : 203202\n",
      "TotalReviews : 1\n",
      "AvgRating : 5.0\n",
      "DegreeCentrality : 14\n",
      "ClusteringCoeff : 0.68\n",
      "----------------------\n",
      "recommendation: 0842328130\n",
      "Title : Ephesians (Life Application Bible Commentary)\n",
      "SalesRank : 180843\n",
      "TotalReviews : 0\n",
      "AvgRating : 0.0\n",
      "DegreeCentrality : 8\n",
      "ClusteringCoeff : 0.81\n",
      "----------------------\n",
      "recommendation: 0842330313\n",
      "Title : 1 Peter 2 Peter Jude (Life Application Bible Commentary)\n",
      "SalesRank : 447658\n",
      "TotalReviews : 0\n",
      "AvgRating : 0.0\n",
      "DegreeCentrality : 11\n",
      "ClusteringCoeff : 0.72\n",
      "----------------------\n",
      "recommendation: 0842329749\n",
      "Title : Life Application Bible Commentary: Philippians Colossians and Philemon (Life Application Bible Commentary)\n",
      "SalesRank : 621548\n",
      "TotalReviews : 1\n",
      "AvgRating : 5.0\n",
      "DegreeCentrality : 5\n",
      "ClusteringCoeff : 0.69\n"
     ]
    }
   ],
   "source": [
    "print(\"The top recommendations are:\")\n",
    "items=['Title','SalesRank','TotalReviews','AvgRating','DegreeCentrality','ClusteringCoeff']\n",
    "for asin in compositemeasure_sorted.keys():\n",
    "    print(\"----------------------\")\n",
    "    print(\"recommendation:\",asin)\n",
    "    for i in items:\n",
    "        print(i,\":\",Books[asin][i])"
   ]
  },
  {
   "cell_type": "markdown",
   "metadata": {},
   "source": [
    "## Compiled code"
   ]
  },
  {
   "cell_type": "code",
   "execution_count": 22,
   "metadata": {},
   "outputs": [
    {
     "name": "stdout",
     "output_type": "stream",
     "text": [
      "0842328327\n",
      "The top recommendations are:\n",
      "----------------------\n",
      "recommendation: 0842328572\n",
      "Title : 1, 2, & 3 John (Life Application Bible Commentary)\n",
      "SalesRank : 339372\n",
      "TotalReviews : 0\n",
      "AvgRating : 0.0\n",
      "DegreeCentrality : 12\n",
      "ClusteringCoeff : 0.75\n",
      "----------------------\n",
      "recommendation: 0842328610\n",
      "Title : Acts (Life Application Bible Commentary)\n",
      "SalesRank : 203202\n",
      "TotalReviews : 1\n",
      "AvgRating : 5.0\n",
      "DegreeCentrality : 14\n",
      "ClusteringCoeff : 0.68\n",
      "----------------------\n",
      "recommendation: 0842328130\n",
      "Title : Ephesians (Life Application Bible Commentary)\n",
      "SalesRank : 180843\n",
      "TotalReviews : 0\n",
      "AvgRating : 0.0\n",
      "DegreeCentrality : 8\n",
      "ClusteringCoeff : 0.81\n",
      "----------------------\n",
      "recommendation: 0842330313\n",
      "Title : 1 Peter 2 Peter Jude (Life Application Bible Commentary)\n",
      "SalesRank : 447658\n",
      "TotalReviews : 0\n",
      "AvgRating : 0.0\n",
      "DegreeCentrality : 11\n",
      "ClusteringCoeff : 0.72\n",
      "----------------------\n",
      "recommendation: 0842329749\n",
      "Title : Life Application Bible Commentary: Philippians Colossians and Philemon (Life Application Bible Commentary)\n",
      "SalesRank : 621548\n",
      "TotalReviews : 1\n",
      "AvgRating : 5.0\n",
      "DegreeCentrality : 5\n",
      "ClusteringCoeff : 0.69\n"
     ]
    }
   ],
   "source": [
    "Item_ASIN = input()\n",
    "\n",
    "degree = nx.ego_graph(Books_Graph,Item_ASIN,radius=1)\n",
    "threshold = 0.5\n",
    "Out_Graph = nx.Graph()\n",
    "\n",
    "Weights={}\n",
    "\n",
    "for source, destination, edge in degree.edges(data=True):\n",
    "    if edge['weight'] >= threshold:\n",
    "        Out_Graph.add_edge(source,destination,edge=edge['weight'])\n",
    "        if (source==Item_ASIN):\n",
    "            Weights[destination]=edge['weight']\n",
    "            \n",
    "Neighbors = [ASIN for ASIN in Out_Graph.neighbors(Item_ASIN)]\n",
    "\n",
    "SalesRank=[]\n",
    "TotalReviews=[]\n",
    "AvgRating=[]\n",
    "DegreeCentrality=[]\n",
    "ClusteringCoeff=[]\n",
    "\n",
    "for ASIN in Neighbors:\n",
    "    SalesRank.append(Books[ASIN]['SalesRank'])\n",
    "    TotalReviews.append(Books[ASIN]['TotalReviews'])\n",
    "    AvgRating.append(Books[ASIN]['AvgRating'])\n",
    "    DegreeCentrality.append(Books[ASIN]['DegreeCentrality'])\n",
    "    ClusteringCoeff.append(Books[ASIN]['ClusteringCoeff'])\n",
    "    \n",
    "columns=['SalesRank','TotalReviews','AvgRating','DegreeCentrality','ClusteringCoeff']\n",
    "\n",
    "df=pd.DataFrame(data={'Sales':SalesRank,'Reviews':TotalReviews,'Avg':AvgRating,'DC':DegreeCentrality,'CC':ClusteringCoeff},index=Neighbors)\n",
    "df['DcCC']=pow(df['DC'],df['CC'])\n",
    "\n",
    "def logtrans(n):\n",
    "    if n ==0:\n",
    "        return 0\n",
    "    else:\n",
    "        logn=np.log(n)\n",
    "        return round(logn,2)\n",
    "\n",
    "df['log_Review']=df['Reviews'].apply(logtrans)\n",
    "df['log_Avg']=df['Avg'].apply(logtrans)\n",
    "df['log_Sales']=df['Sales'].apply(logtrans)\n",
    "\n",
    "\n",
    "df['Rating&Review_Score']=df['log_Review']*df['log_Avg']\n",
    "df['DC&ClusterCoef_Score']=pow(df['DC'],df['CC'])\n",
    "\n",
    "minmax=MinMaxScaler()\n",
    "dftrans=pd.DataFrame(minmax.fit_transform(df[['DC&ClusterCoef_Score','log_Sales','Rating&Review_Score']]), columns=['DcCC_Score','minmax_Sales','R&R_Score'], index=df.index)\n",
    "dftrans=pd.concat([df,dftrans],axis=1)\n",
    "\n",
    "dftrans['Sales_Score']=round(1-dftrans['minmax_Sales'],2)\n",
    "dftrans=dftrans.drop(['DC&ClusterCoef_Score','minmax_Sales','Rating&Review_Score'],axis=1)\n",
    "dftrans['composite_score']=dftrans['DcCC_Score']+dftrans['R&R_Score']+(dftrans['Sales_Score']*1/5)\n",
    "\n",
    "compositemeasure={}\n",
    "for asin in dftrans.index:\n",
    "    compositemeasure[asin]=round(dftrans['composite_score'].loc[asin],2)\n",
    "\n",
    "compositemeasure_sorted=dict(sorted(compositemeasure.items(), key=itemgetter(1),reverse=True)[:5])\n",
    "\n",
    "print(\"The top recommendations are:\")\n",
    "items=['Title','SalesRank','TotalReviews','AvgRating','DegreeCentrality','ClusteringCoeff']\n",
    "for asin in compositemeasure_sorted.keys():\n",
    "    print(\"----------------------\")\n",
    "    print(\"recommendation:\",asin)\n",
    "    for i in items:\n",
    "        print(i,\":\",Books[asin][i])"
   ]
  }
 ],
 "metadata": {
  "kernelspec": {
   "display_name": "Python 3",
   "language": "python",
   "name": "python3"
  },
  "language_info": {
   "codemirror_mode": {
    "name": "ipython",
    "version": 3
   },
   "file_extension": ".py",
   "mimetype": "text/x-python",
   "name": "python",
   "nbconvert_exporter": "python",
   "pygments_lexer": "ipython3",
   "version": "3.7.9"
  }
 },
 "nbformat": 4,
 "nbformat_minor": 4
}
